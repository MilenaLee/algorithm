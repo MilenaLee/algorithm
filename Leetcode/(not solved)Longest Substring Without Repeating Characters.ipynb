{
 "cells": [
  {
   "cell_type": "code",
   "execution_count": 10,
   "metadata": {},
   "outputs": [
    {
     "data": {
      "text/plain": [
       "3"
      ]
     },
     "execution_count": 10,
     "metadata": {},
     "output_type": "execute_result"
    }
   ],
   "source": [
    "class Solution:\n",
    "    def lengthOfLongestSubstring(self, s):\n",
    "        \"\"\"\n",
    "        :type s: str\n",
    "        :rtype: int\n",
    "        \"\"\"\n",
    "        res = max_value = 0\n",
    "        overlap = {}\n",
    "        \n",
    "        for index, value in enumerate(s):\n",
    "            try:\n",
    "                overlap_index = overlap[value]\n",
    "                max_value = max_value if max_value > res else res\n",
    "                res = index - overlap_index\n",
    "            except:\n",
    "                res += 1\n",
    "            finally:\n",
    "                overlap[value] = index\n",
    "                \n",
    "        max_value = max_value if max_value > res else res\n",
    "        return max_value\n",
    "    \n",
    "s = Solution()\n",
    "s.lengthOfLongestSubstring('abba')"
   ]
  },
  {
   "cell_type": "code",
   "execution_count": null,
   "metadata": {
    "collapsed": true
   },
   "outputs": [],
   "source": []
  }
 ],
 "metadata": {
  "kernelspec": {
   "display_name": "Python 3",
   "language": "python",
   "name": "python3"
  },
  "language_info": {
   "codemirror_mode": {
    "name": "ipython",
    "version": 3
   },
   "file_extension": ".py",
   "mimetype": "text/x-python",
   "name": "python",
   "nbconvert_exporter": "python",
   "pygments_lexer": "ipython3",
   "version": "3.6.1"
  }
 },
 "nbformat": 4,
 "nbformat_minor": 2
}
