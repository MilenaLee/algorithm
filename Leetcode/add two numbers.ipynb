{
 "cells": [
  {
   "cell_type": "code",
   "execution_count": 28,
   "metadata": {},
   "outputs": [
    {
     "name": "stdout",
     "output_type": "stream",
     "text": [
      "2 4 3\n",
      "7 0 8\n"
     ]
    }
   ],
   "source": [
    "# Definition for singly-linked list.\n",
    "class ListNode:\n",
    "    def __init__(self, x):\n",
    "        self.val = x\n",
    "        self.next = None\n",
    "\n",
    "class Solution:\n",
    "    def addTwoNumbers(self, l1, l2):\n",
    "        \"\"\"\n",
    "        :type l1: ListNode\n",
    "        :type l2: ListNode\n",
    "        :rtype: ListNode\n",
    "        \"\"\"\n",
    "        res = n = ListNode(0)\n",
    "        carry = 0\n",
    "        while l1 or l2 or carry:\n",
    "            v1 = v2 = 0\n",
    "            if l1:\n",
    "                v1 = l1.val\n",
    "                l1 = l1.next\n",
    "            if l2:\n",
    "                v2 = l2.val\n",
    "                l2 = l2.next\n",
    "            carry, val = divmod(v1+v2+carry, 10)\n",
    "            n.next = ListNode(val)\n",
    "            n = n.next\n",
    "            \n",
    "        return res.next\n",
    "            \n",
    "    \n",
    "    \n",
    "input1 = ListNode(2)\n",
    "input1.next = ListNode(4)\n",
    "input1.next.next = ListNode(3)\n",
    "\n",
    "    \n",
    "input2 = ListNode(5)\n",
    "input2.next = ListNode(6)\n",
    "input2.next.next = ListNode(4)\n",
    "\n",
    "print(input1.val, input1.next.val, input1.next.next.val)\n",
    "    \n",
    "s = Solution()\n",
    "res = s.addTwoNumbers(input1, input2)\n",
    "print(res.val, res.next.val, res.next.next.val)\n"
   ]
  },
  {
   "cell_type": "code",
   "execution_count": 26,
   "metadata": {},
   "outputs": [
    {
     "name": "stdout",
     "output_type": "stream",
     "text": [
      "2 4 3\n",
      "7 0 8\n"
     ]
    }
   ],
   "source": [
    "class Solution:\n",
    "# @return a ListNode\n",
    "    def addTwoNumbers(self, l1, l2):\n",
    "        carry = 0\n",
    "        root = n = ListNode(0)\n",
    "        while l1 or l2 or carry:\n",
    "            v1 = v2 = 0\n",
    "            if l1:\n",
    "                v1 = l1.val\n",
    "                l1 = l1.next\n",
    "            if l2:\n",
    "                v2 = l2.val\n",
    "                l2 = l2.next\n",
    "            carry, val = divmod(v1+v2+carry, 10)\n",
    "            n.next = ListNode(val)\n",
    "            n = n.next\n",
    "        return root.next\n",
    "    \n",
    "input1 = ListNode(2)\n",
    "input1.next = ListNode(4)\n",
    "input1.next.next = ListNode(3)\n",
    "\n",
    "    \n",
    "input2 = ListNode(5)\n",
    "input2.next = ListNode(6)\n",
    "input2.next.next = ListNode(4)\n",
    "\n",
    "print(input1.val, input1.next.val, input1.next.next.val)\n",
    "    \n",
    "s = Solution()\n",
    "res = s.addTwoNumbers(input1, input2)\n",
    "print(res.val, res.next.val, res.next.next.val)"
   ]
  },
  {
   "cell_type": "code",
   "execution_count": null,
   "metadata": {
    "collapsed": true
   },
   "outputs": [],
   "source": []
  }
 ],
 "metadata": {
  "kernelspec": {
   "display_name": "Python 3",
   "language": "python",
   "name": "python3"
  },
  "language_info": {
   "codemirror_mode": {
    "name": "ipython",
    "version": 3
   },
   "file_extension": ".py",
   "mimetype": "text/x-python",
   "name": "python",
   "nbconvert_exporter": "python",
   "pygments_lexer": "ipython3",
   "version": "3.6.1"
  }
 },
 "nbformat": 4,
 "nbformat_minor": 2
}
