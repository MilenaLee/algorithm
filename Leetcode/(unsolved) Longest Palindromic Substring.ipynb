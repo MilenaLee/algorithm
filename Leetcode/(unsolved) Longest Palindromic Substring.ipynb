{
 "cells": [
  {
   "cell_type": "code",
   "execution_count": 39,
   "metadata": {},
   "outputs": [
    {
     "data": {
      "text/plain": [
       "'bb'"
      ]
     },
     "execution_count": 39,
     "metadata": {},
     "output_type": "execute_result"
    }
   ],
   "source": [
    "class Solution:\n",
    "    def longestPalindrome(self, s):\n",
    "        \"\"\"\n",
    "        :type s: str\n",
    "        :rtype: str\n",
    "        \"\"\"\n",
    "        N = len(s)\n",
    "        DP = [[False for i in range(N)] for j in range(N) ]\n",
    "        ans_start, ans_end=0,0\n",
    "        \n",
    "        for i in range(N):\n",
    "            start, end = 0, i\n",
    "            while start < N and end < N:\n",
    "                if start == end:\n",
    "                    DP[start][end] = True\n",
    "                    if end-start+1 > ans_end-ans_start+1:\n",
    "                        ans_start, ans_end = start, end\n",
    "                elif start+1 == end and s[start]==s[end]:\n",
    "                    DP[start][end]=True\n",
    "                    if end-start+1 > ans_end-ans_start+1:\n",
    "                        ans_start, ans_end = start, end\n",
    "                else:\n",
    "                    if DP[start+1][end-1] and s[start]==s[end]:\n",
    "                        DP[start][end] = True\n",
    "                        if end-start+1 > ans_end-ans_start+1:\n",
    "                            ans_start, ans_end = start, end\n",
    "                        \n",
    "                start += 1\n",
    "                end += 1\n",
    "                \n",
    "        return s[ans_start:ans_end+1]\n",
    "    \n",
    "s = Solution()\n",
    "s.longestPalindrome('cbbd')"
   ]
  },
  {
   "cell_type": "code",
   "execution_count": 46,
   "metadata": {},
   "outputs": [
    {
     "name": "stdout",
     "output_type": "stream",
     "text": [
      "2 1\n",
      "4 3\n",
      "5 4\n"
     ]
    },
    {
     "data": {
      "text/plain": [
       "'abaaba'"
      ]
     },
     "execution_count": 46,
     "metadata": {},
     "output_type": "execute_result"
    }
   ],
   "source": [
    "class Solution:\n",
    "    # @return a string\n",
    "    def longestPalindrome(self, s):\n",
    "        if len(s)==0:\n",
    "            return 0\n",
    "        maxLen=1\n",
    "        start=0\n",
    "        for i in range(len(s)):\n",
    "            if i-maxLen >=1 and s[i-maxLen-1:i+1]==s[i-maxLen-1:i+1][::-1]:\n",
    "                print(i, maxLen)\n",
    "                start=i-maxLen-1\n",
    "                maxLen+=2\n",
    "                continue\n",
    "\n",
    "            if i-maxLen >=0 and s[i-maxLen:i+1]==s[i-maxLen:i+1][::-1]:\n",
    "                print(i, maxLen)\n",
    "                start=i-maxLen\n",
    "                maxLen+=1\n",
    "        return s[start:start+maxLen]\n",
    "    \n",
    "s = Solution()\n",
    "s.longestPalindrome('abaaba')"
   ]
  },
  {
   "cell_type": "code",
   "execution_count": 43,
   "metadata": {},
   "outputs": [
    {
     "data": {
      "text/plain": [
       "'마라다나가'"
      ]
     },
     "execution_count": 43,
     "metadata": {},
     "output_type": "execute_result"
    }
   ],
   "source": [
    "s = \"가나다라마바사\"\n",
    "s[0:5]\n",
    "s[0:5][::-1]"
   ]
  },
  {
   "cell_type": "code",
   "execution_count": null,
   "metadata": {
    "collapsed": true
   },
   "outputs": [],
   "source": []
  }
 ],
 "metadata": {
  "kernelspec": {
   "display_name": "Python 3",
   "language": "python",
   "name": "python3"
  },
  "language_info": {
   "codemirror_mode": {
    "name": "ipython",
    "version": 3
   },
   "file_extension": ".py",
   "mimetype": "text/x-python",
   "name": "python",
   "nbconvert_exporter": "python",
   "pygments_lexer": "ipython3",
   "version": "3.6.1"
  }
 },
 "nbformat": 4,
 "nbformat_minor": 2
}
