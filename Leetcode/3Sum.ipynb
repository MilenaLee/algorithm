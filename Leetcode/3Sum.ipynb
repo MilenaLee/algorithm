{
 "cells": [
  {
   "cell_type": "code",
   "execution_count": 22,
   "metadata": {},
   "outputs": [
    {
     "data": {
      "text/plain": [
       "[[-4, 2, 2], [-2, 0, 2], [-1, -1, 2], [-1, 0, 1], [0, 0, 0]]"
      ]
     },
     "execution_count": 22,
     "metadata": {},
     "output_type": "execute_result"
    }
   ],
   "source": [
    "class Solution:\n",
    "    def threeSum(self, nums):\n",
    "        \"\"\"\n",
    "        :type nums: List[int]\n",
    "        :rtype: List[List[int]]\n",
    "        \"\"\"\n",
    "        N = len(nums)\n",
    "        nums.sort()\n",
    "        ans = []\n",
    "        \n",
    "        for i in range(N-2):\n",
    "            if i > 0 and nums[i] == nums[i-1]:\n",
    "                continue\n",
    "            l = i + 1\n",
    "            r = N - 1\n",
    "            while(l < r):\n",
    "                if nums[i] + nums[l] + nums[r] == 0:\n",
    "                    ans.append([nums[i], nums[l], nums[r]])\n",
    "                    while l < r and nums[l] == nums[l+1]:\n",
    "                        l += 1\n",
    "                    while l < r and nums[r] == nums[r-1]:\n",
    "                        r -= 1\n",
    "                    r -= 1\n",
    "                    l += 1\n",
    "                elif nums[i] + nums[l] + nums[r] > 0:\n",
    "                    r -= 1\n",
    "                else:\n",
    "                    l += 1\n",
    "        \n",
    "        return ans\n",
    "    \n",
    "s = Solution()\n",
    "s.threeSum([-1, 0, 1, 2, -1, -4, -2 , 0, 0, 2, 2])"
   ]
  },
  {
   "cell_type": "code",
   "execution_count": null,
   "metadata": {
    "collapsed": true
   },
   "outputs": [],
   "source": []
  }
 ],
 "metadata": {
  "kernelspec": {
   "display_name": "Python 3",
   "language": "python",
   "name": "python3"
  },
  "language_info": {
   "codemirror_mode": {
    "name": "ipython",
    "version": 3
   },
   "file_extension": ".py",
   "mimetype": "text/x-python",
   "name": "python",
   "nbconvert_exporter": "python",
   "pygments_lexer": "ipython3",
   "version": "3.6.1"
  }
 },
 "nbformat": 4,
 "nbformat_minor": 2
}
